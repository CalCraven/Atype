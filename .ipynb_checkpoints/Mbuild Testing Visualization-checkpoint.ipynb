{
 "cells": [
  {
   "cell_type": "markdown",
   "metadata": {},
   "source": [
    "# Functions that plot networkx figures as atom types"
   ]
  },
  {
   "cell_type": "markdown",
   "metadata": {},
   "source": [
    "This should work in an environment with current versions of foyer, mbuild, and gmso."
   ]
  },
  {
   "cell_type": "code",
   "execution_count": null,
   "metadata": {},
   "outputs": [],
   "source": [
    "import networkx as nx\n",
    "from gmso.external import convert_networkx\n",
    "import matplotlib.pyplot as plt\n",
    "def plot_networkx_atom_types(top):\n",
    "    \"\"\"\n",
    "    This function is given a gmso.topology object. It will then \n",
    "    output the atom types shown on a networkx object\n",
    "    \n",
    "    \"\"\"\n",
    "\n",
    "    fig,ax = plt.subplots(1,1,figsize=(8,8))\n",
    "    networkx_graph = convert_networkx.to_networkx(top)\n",
    "\n",
    "    pos={}\n",
    "    for node in networkx_graph.nodes:\n",
    "        pos[node] = node.position.value[0:2]\n",
    "\n",
    "    layout = nx.drawing.layout.spring_layout(networkx_graph,k=.5,pos=pos)\n",
    "\n",
    "    node_color_dict = {'C':'grey','H':'silver','O':'red','N':'blue','Cl':'green'}\n",
    "    node_colors = []\n",
    "    for node in networkx_graph.nodes:\n",
    "        if node.name in list(node_color_dict.keys()):\n",
    "            node_colors.append(node_color_dict[node.name])\n",
    "        else:\n",
    "            node_colors.append('black')\n",
    "\n",
    "    nx.draw(networkx_graph,layout,ax,node_color=node_colors)\n",
    "    #text_labels = (labels_from_wildcards(pos,labels))\n",
    "    pos= {}\n",
    "    labels = {}\n",
    "    i=0\n",
    "    for node in list(networkx_graph.nodes()):\n",
    "        node.label = node.name + '\\n' + node.atom_type.name\n",
    "        #pos[node] = node.position.to_ndarray()[0:2]\n",
    "        labels[node] = node.label \n",
    "        i+=1\n",
    "    for atom,pos in layout.items():\n",
    "        layout[atom] = pos + [0.09,0]\n",
    "    nx.draw_networkx_labels(networkx_graph,layout,labels,horizontalalignment='left')\n",
    "    ax.margins(.3,.3)\n",
    "    plt.show()"
   ]
  },
  {
   "cell_type": "code",
   "execution_count": null,
   "metadata": {},
   "outputs": [],
   "source": [
    "from gmso.external import convert_networkx\n",
    "import matplotlib.pyplot as plt\n",
    "    \n",
    "def plot_networkx_bond_types(top,atom_name1=None,atom_name2=None):\n",
    "    #Color and weight edges between particular atoms. If both atom_names are none, plot missing bond types.\n",
    "    \n",
    "    \"\"\"\n",
    "    This function is given a gmso.topology object, and two atom names. These will \n",
    "    generally be the form of strings such as \"C\" for a carbon atom. It will then \n",
    "    output a networkx object highlighting bonds with those atoms. If no atom names are input,\n",
    "    then it looks for bonds that are missing types (NoneType).\n",
    "    \n",
    "    \"\"\"\n",
    "    \n",
    "    fig,ax = plt.subplots(1,1,figsize=(8,8))\n",
    "    networkx_graph = convert_networkx.to_networkx(top)\n",
    "    pos={}\n",
    "    for node in networkx_graph.nodes:\n",
    "        pos[node] = node.position.value[0:2]\n",
    "\n",
    "    layout = nx.drawing.layout.spring_layout(networkx_graph,k=.5,pos=pos)\n",
    "\n",
    "    node_color_dict = {'C':'grey','H':'silver','O':'red','N':'blue','Cl':'green'}\n",
    "    node_colors = []\n",
    "    for node in networkx_graph.nodes:\n",
    "        node_colors.append(node_color_dict[node.name])\n",
    "\n",
    "    edge_weights = {}\n",
    "    edge_colors = {}\n",
    "    mia_bond_ind = 0\n",
    "    if atom_name1 and atom_name2:\n",
    "        for edge in networkx_graph.edges:\n",
    "            if edge[0].name == atom_name1 and edge[1].name == atom_name2:\n",
    "                edge_weights[edge] = 5\n",
    "                edge_colors[edge] = 'red'\n",
    "            elif edge[0].name == atom_name2 and edge[1].name == atom_name1:\n",
    "                edge_weights[edge] = 5\n",
    "                edge_colors[edge] = 'red'\n",
    "            else:\n",
    "                edge_weights[edge] = 1\n",
    "                edge_colors[edge] = 'k'\n",
    "    elif atom_name1:\n",
    "        for edge in networkx_graph.edges:\n",
    "            if edge[0].name == atom_name1 or edge[1].name == atom_name1:\n",
    "                edge_weights[edge] = 5\n",
    "                edge_colors[edge] = 'red'\n",
    "            else:\n",
    "                edge_weights[edge] = 1\n",
    "                edge_colors[edge] = 'k'\n",
    "    else:\n",
    "        for bond in list(networkx_graph.edges.items()):\n",
    "            if bond[1]['connection'].bond_type == None:\n",
    "                edge_weights[bond[0]] = 5\n",
    "                edge_colors[bond[0]] = 'red'\n",
    "                mia_bond_ind = 1\n",
    "            else:\n",
    "                edge_weights[bond[0]] = 1\n",
    "                edge_colors[bond[0]] = 'k'\n",
    "        if not mia_bond_ind:\n",
    "            print('All bonds are typed')\n",
    "\n",
    "    nx.draw(networkx_graph,layout,ax,node_color=node_colors,\n",
    "            width=list(edge_weights.values()),edge_color=list(edge_colors.values()))\n",
    "    #text_labels = (labels_from_wildcards(pos,labels))\n",
    "    pos= {}\n",
    "    labels = {}\n",
    "\n",
    "    for node in list(networkx_graph.nodes()):\n",
    "        node.label = node.name + '\\n' + node.atom_type.name\n",
    "        #pos[node] = node.position.to_ndarray()[0:2]\n",
    "        labels[node] = node.label \n",
    "\n",
    "    for atom,pos in layout.items():\n",
    "        layout[atom] = pos + [0.09,0]\n",
    "    nx.draw_networkx_labels(networkx_graph,layout,labels,horizontalalignment='left')\n",
    "    ax.margins(.3,.3)\n",
    "    plt.show()"
   ]
  },
  {
   "cell_type": "markdown",
   "metadata": {},
   "source": [
    "# Example of using the functions above"
   ]
  },
  {
   "cell_type": "code",
   "execution_count": null,
   "metadata": {},
   "outputs": [],
   "source": [
    "import molecule_parts\n",
    "import mbuild as mb\n",
    "import warnings \n",
    "warnings.filterwarnings('ignore')\n",
    "\n",
    "#Build a molecule to type and visualize.\n",
    "class AceticAcid(mb.Compound):\n",
    "    def __init__(self):\n",
    "        super(AceticAcid, self).__init__()\n",
    "        CH3 = mb.lib.moieties.CH3()\n",
    "        carb = molecule_parts.Carboxylate()\n",
    "        carb.visualize(show_ports=True)\n",
    "        self.add(carb)\n",
    "        mb.force_overlap(CH3,CH3['up'],carb['anterior'],CH3)\n",
    "        self.add(CH3)"
   ]
  },
  {
   "cell_type": "code",
   "execution_count": null,
   "metadata": {},
   "outputs": [],
   "source": [
    "import mbuild as mb \n",
    "import foyer \n",
    "import gmso \n",
    "from gmso.external import from_parmed\n",
    "\n",
    "#Apply a foyer forcefield to this simple atom.\n",
    "acetic_acid = AceticAcid()\n",
    "oplsaa = foyer.Forcefield(name='oplsaa')\n",
    "pmd_aa = oplsaa.apply(acetic_acid)\n",
    "top = from_parmed(pmd_aa)\n",
    "\n",
    "\"\"\"\n",
    "#This will only run if you have the gmso visualize forcefield PR installed.\n",
    "top.visualize()\n",
    "\"\"\"\n",
    "acetic_acid.visualize()"
   ]
  },
  {
   "cell_type": "code",
   "execution_count": null,
   "metadata": {},
   "outputs": [],
   "source": [
    "#Note, sometimes it's a little finicky and won't plot the figure the first time. Try running the cell again.\n",
    "plot_networkx_atom_types(top)"
   ]
  },
  {
   "cell_type": "code",
   "execution_count": null,
   "metadata": {},
   "outputs": [],
   "source": [
    "plot_networkx_bond_types(top,atom_name1 = 'C')"
   ]
  },
  {
   "cell_type": "code",
   "execution_count": null,
   "metadata": {},
   "outputs": [],
   "source": [
    "plot_networkx_bond_types(top,atom_name1 = 'H')"
   ]
  },
  {
   "cell_type": "code",
   "execution_count": null,
   "metadata": {},
   "outputs": [],
   "source": [
    "plot_networkx_bond_types(top,atom_name1 = 'C',atom_name2 = 'H')"
   ]
  },
  {
   "cell_type": "code",
   "execution_count": null,
   "metadata": {},
   "outputs": [],
   "source": [
    "plot_networkx_bond_types(top,atom_name1 = 'H',atom_name2 = 'C')"
   ]
  },
  {
   "cell_type": "code",
   "execution_count": null,
   "metadata": {},
   "outputs": [],
   "source": [
    "plot_networkx_bond_types(top)"
   ]
  },
  {
   "cell_type": "code",
   "execution_count": null,
   "metadata": {},
   "outputs": [],
   "source": [
    "#remove a bond type\n",
    "i = 1 #index of bond type to remove\n",
    "print(list(top.bonds)[i].bond_type)\n",
    "list(top.bonds)[i].bond_type = None\n",
    "print('\\n\\n')\n",
    "print(list(top.bonds)[i].bond_type)"
   ]
  },
  {
   "cell_type": "code",
   "execution_count": null,
   "metadata": {},
   "outputs": [],
   "source": [
    "plot_networkx_bond_types(top)"
   ]
  },
  {
   "cell_type": "code",
   "execution_count": null,
   "metadata": {},
   "outputs": [],
   "source": [
    "from mbuild.lib.recipes import Alkane\n",
    "\n",
    "mb_alkane = Alkane(n=3,cap_front=True,cap_end=True)\n",
    "oplsaa = foyer.Forcefield(name='oplsaa')\n",
    "pmd_propane = oplsaa.apply(mb_alkane)\n",
    "top = from_parmed(pmd_propane)\n",
    "color_scheme = {'C':'blue','H':'grey'}\n",
    "\"\"\"\n",
    "#Again this visualization won't work unless you have the gmso.topology.visualize() \n",
    "#method installed, which is not part of gmso yet. You can visualize using mbuild\n",
    "top.visualize(color_scheme=color_scheme)\n",
    "\"\"\"\n",
    "mb_alkane.visualize(color_scheme=color_scheme)"
   ]
  },
  {
   "cell_type": "code",
   "execution_count": null,
   "metadata": {},
   "outputs": [],
   "source": [
    "plot_networkx_atom_types(top)"
   ]
  },
  {
   "cell_type": "code",
   "execution_count": null,
   "metadata": {},
   "outputs": [],
   "source": []
  }
 ],
 "metadata": {
  "kernelspec": {
   "display_name": "Python 3",
   "language": "python",
   "name": "python3"
  },
  "language_info": {
   "codemirror_mode": {
    "name": "ipython",
    "version": 3
   },
   "file_extension": ".py",
   "mimetype": "text/x-python",
   "name": "python",
   "nbconvert_exporter": "python",
   "pygments_lexer": "ipython3",
   "version": "3.6.12"
  }
 },
 "nbformat": 4,
 "nbformat_minor": 4
}
